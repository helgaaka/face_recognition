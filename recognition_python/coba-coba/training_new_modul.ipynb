{
 "cells": [
  {
   "cell_type": "code",
   "execution_count": 3,
   "metadata": {},
   "outputs": [],
   "source": [
    "import numpy as np\n",
    "import pandas as pd\n",
    "from sklearn.model_selection import train_test_split, GridSearchCV\n",
    "from sklearn.metrics import accuracy_score, classification_report, confusion_matrix\n",
    "from sklearn.preprocessing import StandardScaler\n",
    "from sklearn.svm import SVC\n",
    "import joblib\n",
    "from joblib import load\n",
    "import csv"
   ]
  },
  {
   "cell_type": "code",
   "execution_count": 74,
   "metadata": {},
   "outputs": [
    {
     "name": "stdout",
     "output_type": "stream",
     "text": [
      "Hasil ekstraksi test\n",
      "['X1', 'X2', 'X3', 'X4', 'X5', 'X6', 'X7', 'X8', 'X9', 'X10', 'Y']\n",
      "[['0.03753363893629976', '0.061239427199505314', '0.05152554350740924', '0.11197940492603378', '0.19842949941476926', '0.15706898781899808', '0.07458458082651616', '0.07083973511605236', '0.06797825654874767', '0.16882092570566837', '?']]\n"
     ]
    }
   ],
   "source": [
    "Test = []\n",
    "with open('Test.csv') as csv_file:\n",
    "    csv_reader = csv.reader(csv_file, delimiter=',')\n",
    "    for row in csv_reader:\n",
    "        Test.append(row)\n",
    "labels = Test.pop(0)\n",
    "print(\"Hasil ekstraksi test\")\n",
    "print(labels)\n",
    "print(Test)"
   ]
  },
  {
   "cell_type": "code",
   "execution_count": 93,
   "metadata": {},
   "outputs": [],
   "source": [
    "# def classifier():\n",
    "#     train = pd.read_csv(\"Training.csv\")\n",
    "#     test = pd.read_csv(\"Test.csv\")\n",
    "\n",
    "#     # featlist = ['X1','X2','X3','X4','X5','X6','X7','X8','X9','X10']\n",
    "\n",
    "#     X = train.iloc[:, :-1].values\n",
    "#     y = train.iloc[:, -1].values\n",
    "\n",
    "#     scaler = StandardScaler()\n",
    "#     X_scaled = scaler.fit_transform(X)\n",
    "\n",
    "#     X_train, X_test, y_train, y_test = train_test_split(X, y, test_size=0.2, random_state=42)\n",
    "\n",
    "#     clf = SVC(kernel=\"rbf\", C=50)\n",
    "#     clf = clf.fit(X_train,y_train)\n",
    "#     pred = clf.predict(X_test)\n",
    "\n",
    "#     submission_df = {\"0\":pred}\n",
    "#     submission = pd.DataFrame(submission_df)\n",
    "#     submission.to_csv(\"prediction.csv\", index=False, header=False)\n",
    "\n",
    "#     return pred"
   ]
  },
  {
   "cell_type": "code",
   "execution_count": 95,
   "metadata": {},
   "outputs": [],
   "source": [
    "# def main():\n",
    "#     pred = classifier()\n",
    "\n",
    "#     if pred == 1.0:\n",
    "#         print(\"Hasil Prediksi: Riski\")\n",
    "#     elif pred == 2.0:\n",
    "#         print(\"Hasil Prediksi: Haikal\")\n",
    "#     elif pred == 3.0:\n",
    "#         print(\"Hasil Prediksi: Fuad\")\n",
    "#     elif pred == 4.0:\n",
    "#         print(\"Hasil prediksi : Fahrul\")\n",
    "#     else:\n",
    "#         print(\"Hasil Prediksi: Tidak dikenali\")\n",
    "# main()"
   ]
  },
  {
   "cell_type": "code",
   "execution_count": 6,
   "metadata": {},
   "outputs": [
    {
     "name": "stdout",
     "output_type": "stream",
     "text": [
      "Accuracy: 1.0\n",
      "Classification Report:\n",
      "              precision    recall  f1-score   support\n",
      "\n",
      "         1.0       1.00      1.00      1.00         2\n",
      "         4.0       1.00      1.00      1.00         2\n",
      "\n",
      "    accuracy                           1.00         4\n",
      "   macro avg       1.00      1.00      1.00         4\n",
      "weighted avg       1.00      1.00      1.00         4\n",
      "\n"
     ]
    }
   ],
   "source": [
    "dataset = pd.read_csv('Training.csv')\n",
    "\n",
    "# dataset = dataset.drop(dataset.columns[0], axis=1)\n",
    "\n",
    "\n",
    "X = dataset.iloc[:, :-1].values\n",
    "y = dataset.iloc[:, -1].values\n",
    "\n",
    "scaler = StandardScaler()\n",
    "X_scaled = scaler.fit_transform(X)\n",
    "\n",
    "X_train, X_test, y_train, y_test = train_test_split(X_scaled, y, test_size=0.2, random_state=42)\n",
    "\n",
    "model = SVC(kernel='linear')\n",
    "model.fit(X_train, y_train)\n",
    "\n",
    "y_pred = model.predict(X_test)\n",
    "accuracy = accuracy_score(y_test, y_pred)\n",
    "report = classification_report(y_test, y_pred)\n",
    "\n",
    "print(f'Accuracy: {accuracy}')\n",
    "print('Classification Report:')\n",
    "print(report)"
   ]
  },
  {
   "cell_type": "code",
   "execution_count": null,
   "metadata": {},
   "outputs": [],
   "source": [
    "new_data = pd.read_csv('Test.csv')\n",
    "new_data = new_data.drop(new_data.columns[0], axis=1)\n",
    "\n",
    "X_baru = new_data.iloc[:, :-1].values\n",
    "y_baru = new_data.iloc[:, -1].values\n",
    "\n",
    "X_baru_scaled = scaler.transform(X_baru)\n",
    "\n",
    "y_baru_pred = model.predict(X_baru_scaled)\n",
    "\n",
    "if 'y_baru' in locals():\n",
    "    akurasi = accuracy_score(y_baru, y_baru_pred)\n",
    "    laporan = classification_report(y_baru, y_baru_pred)\n",
    "    print(f'Akurasi: {akurasi}')\n",
    "    print('Laporan Klasifikasi:')\n",
    "    print(laporan)\n",
    "else:\n",
    "    # Mencetak prediksi jika tidak ada label sebenarnya\n",
    "    print('Prediksi:')\n",
    "    print(y_baru_pred)"
   ]
  },
  {
   "cell_type": "code",
   "execution_count": 14,
   "metadata": {},
   "outputs": [
    {
     "name": "stdout",
     "output_type": "stream",
     "text": [
      "Hasil prediksi untuk data baru: 4.0\n",
      "Hasil prediksi : Fahrul\n"
     ]
    }
   ],
   "source": [
    "# # Data baru yang ingin diprediksi\n",
    "# new_data = pd.read_csv('Test.csv')\n",
    "# new_data = new_data.drop(new_data.columns[0], axis=1)\n",
    "\n",
    "new_data = np.array([0.03753363893629976,0.061239427199505314,0.05152554350740924,0.11197940492603378,0.19842949941476926,0.15706898781899808,0.07458458082651616,0.07083973511605236,0.06797825654874767,0.16882092570566837])\n",
    "\n",
    "# Reshape data menjadi bentuk yang sesuai dengan input model\n",
    "array_reshaped = new_data.reshape(1, -1)\n",
    "\n",
    "scaler = StandardScaler()\n",
    "scaler.fit(X_train)\n",
    "X_new_scaled = scaler.transform(array_reshaped)\n",
    "\n",
    "\n",
    "# Lakukan prediksi dengan model yang telah dilatih\n",
    "new_predictions = model.predict(X_new_scaled)\n",
    "\n",
    "\n",
    "print(\"Hasil prediksi untuk data baru:\", new_predictions[0])\n",
    "\n",
    "# Interpretasi hasil prediksi\n",
    "if new_predictions == 1.0:\n",
    "    print(\"Hasil Prediksi: Riski\")\n",
    "elif new_predictions == 2.0:\n",
    "    print(\"Hasil Prediksi: Haikal\")\n",
    "elif new_predictions == 3.0:\n",
    "    print(\"Hasil Prediksi: Fuad\")\n",
    "elif new_predictions == 4.0:\n",
    "    print(\"Hasil prediksi : Fahrul\")\n",
    "else:\n",
    "    print(\"Hasil Prediksi: Tidak dikenali\")\n",
    "\n"
   ]
  }
 ],
 "metadata": {
  "kernelspec": {
   "display_name": "Python 3",
   "language": "python",
   "name": "python3"
  },
  "language_info": {
   "codemirror_mode": {
    "name": "ipython",
    "version": 3
   },
   "file_extension": ".py",
   "mimetype": "text/x-python",
   "name": "python",
   "nbconvert_exporter": "python",
   "pygments_lexer": "ipython3",
   "version": "3.11.8"
  }
 },
 "nbformat": 4,
 "nbformat_minor": 2
}
