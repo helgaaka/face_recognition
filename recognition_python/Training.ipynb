{
 "cells": [
  {
   "cell_type": "code",
   "execution_count": 15,
   "metadata": {},
   "outputs": [],
   "source": [
    "from PIL import Image, ImageFilter\n",
    "import numpy as np\n",
    "from skimage.feature import graycomatrix, graycoprops, local_binary_pattern\n",
    "from sklearn.preprocessing import StandardScaler\n",
    "from skimage import color, feature, io\n",
    "from skimage import img_as_ubyte\n",
    "import matplotlib.pyplot as plt\n",
    "from scipy.ndimage import convolve\n",
    "import pandas as pd\n",
    "from sklearn.decomposition import PCA\n",
    "import cv2"
   ]
  },
  {
   "cell_type": "code",
   "execution_count": 9,
   "metadata": {},
   "outputs": [],
   "source": [
    "#untuk crop bagian wajah saja\n",
    "def crop_face(image):\n",
    "    face_cascade = cv2.CascadeClassifier(cv2.data.haarcascades + 'haarcascade_frontalface_default.xml')\n",
    "    \n",
    "    # Detect faces in the image\n",
    "    faces = face_cascade.detectMultiScale(image, scaleFactor=1.1, minNeighbors=5, minSize=(30, 30))\n",
    "    \n",
    "    if len(faces) > 0:\n",
    "        # Assume the largest face in the image is the face of interest\n",
    "        largest_face = max(faces, key=lambda rect: rect[2] * rect[3])\n",
    "        x, y, w, h = largest_face\n",
    "        face = image[y:y+h, x:x+w]\n",
    "        return face"
   ]
  },
  {
   "cell_type": "code",
   "execution_count": null,
   "metadata": {},
   "outputs": [],
   "source": [
    "image_path = \"data/test_haikal.jpg\"\n",
    "image = Image.open(image_path)\n",
    "image_test = np.array(image)\n",
    "result_test_crop = crop_face(image_test)\n",
    "plt.figure(figsize=(6, 4))\n",
    "plt.subplot(1, 2, 1)\n",
    "plt.imshow(image_test)\n",
    "plt.axis('off')\n",
    "plt.title('Image')\n",
    "plt.subplot(1, 2, 2)\n",
    "plt.imshow(result_test_crop)\n",
    "plt.axis('off')\n",
    "plt.title('Image Hasil dari crop')\n",
    "plt.show()"
   ]
  },
  {
   "cell_type": "code",
   "execution_count": 4,
   "metadata": {},
   "outputs": [],
   "source": [
    "#confert to Grayscale\n",
    "def convert2gray(image):\n",
    "    return color.rgb2gray(image)"
   ]
  },
  {
   "cell_type": "code",
   "execution_count": null,
   "metadata": {},
   "outputs": [],
   "source": [
    "\n",
    "\n",
    "# image_path = \"data/test_haikal.jpg\"\n",
    "# image = Image.open(image_path)\n",
    "# image_test = np.array(image)\n",
    "result_test = crop_face(image_test)\n",
    "result_test_grey = convert2gray(result_test_crop)\n",
    "plt.figure(figsize=(6, 4))\n",
    "plt.subplot(1, 2, 1)\n",
    "plt.imshow(result_test_crop)\n",
    "plt.axis('off')\n",
    "plt.title('Image hasil crop')\n",
    "plt.subplot(1, 2, 2)\n",
    "plt.imshow(result_test_grey, cmap='gray')\n",
    "plt.axis('off')\n",
    "plt.title('Image Hasil grey')\n",
    "plt.show()"
   ]
  },
  {
   "cell_type": "code",
   "execution_count": 5,
   "metadata": {},
   "outputs": [],
   "source": [
    "#Normalisasi image\n",
    "def normalisasi_image(image, range_min=0, range_max=1):\n",
    "    # Pastikan citra dalam format float untuk menghindari masalah pembulatan\n",
    "    image = image.astype(np.float32)\n",
    "    \n",
    "    # Hitung nilai minimum dan maksimum dari citra\n",
    "    min_val = np.min(image)\n",
    "    max_val = np.max(image)\n",
    "    \n",
    "    # Lakukan normalisasi\n",
    "    normalized_image = (image - min_val) / (max_val - min_val)\n",
    "    \n",
    "    # Skalakan ke rentang yang diinginkan\n",
    "    normalized_image = normalized_image * (range_max - range_min) + range_min\n",
    "    \n",
    "    return normalized_image"
   ]
  },
  {
   "cell_type": "code",
   "execution_count": null,
   "metadata": {},
   "outputs": [],
   "source": [
    "result_test_grey = convert2gray(result_test_crop)\n",
    "result_test_normalized = normalisasi_image(result_test_grey)\n",
    "plt.figure(figsize=(6, 4))\n",
    "plt.subplot(1, 2, 1)\n",
    "plt.imshow(result_test_grey, cmap='gray')\n",
    "plt.axis('off')\n",
    "plt.title('Image hasil grey')\n",
    "plt.subplot(1, 2, 2)\n",
    "plt.imshow(result_test_normalized, cmap='gray')\n",
    "plt.axis('off')\n",
    "plt.title('Image Hasil normalisasi')\n",
    "plt.show()"
   ]
  },
  {
   "cell_type": "code",
   "execution_count": 12,
   "metadata": {},
   "outputs": [],
   "source": [
    "def metode_lbp(image, radius=3, n_points=8, method='uniform'):\n",
    "\n",
    "    image = image.astype(np.float32)\n",
    "\n",
    "    # Hitung LBP\n",
    "    lbp = local_binary_pattern(image, n_points, radius, method)\n",
    "\n",
    "    # Hitung histogram LBP\n",
    "    hist, _ = np.histogram(lbp.ravel(), bins=np.arange(0, n_points + 3), range=(0, n_points + 2))\n",
    "\n",
    "    # Normalisasi histogram\n",
    "    hist = hist.astype(float) / sum(hist)\n",
    "\n",
    "    return hist\n"
   ]
  },
  {
   "cell_type": "code",
   "execution_count": null,
   "metadata": {},
   "outputs": [],
   "source": [
    "result_test_glcm = metode_glcm(result_test_normalized)\n",
    "print(result_test_glcm)\n",
    "plt.figure(figsize=(6, 4))\n",
    "plt.subplot(1, 2, 1)\n",
    "plt.imshow(result_test_normalized, cmap='gray')\n",
    "plt.axis('off')\n",
    "plt.title('Image Hasil normalisasi')\n",
    "plt.show()"
   ]
  },
  {
   "cell_type": "code",
   "execution_count": 10,
   "metadata": {},
   "outputs": [],
   "source": [
    "def citra_digital_proccessing(image):\n",
    "    image_cropped = crop_face(image)\n",
    "    image_grayscale = convert2gray(image_cropped)\n",
    "    image_normalizedd = normalisasi_image(image_grayscale)\n",
    "    image_lab = metode_lbp(image_normalizedd)\n",
    "\n",
    "    return image_lab"
   ]
  },
  {
   "cell_type": "code",
   "execution_count": 14,
   "metadata": {},
   "outputs": [
    {
     "name": "stdout",
     "output_type": "stream",
     "text": [
      "data_1\n",
      "0\n"
     ]
    },
    {
     "name": "stderr",
     "output_type": "stream",
     "text": [
      "c:\\Users\\UsEr\\AppData\\Local\\Programs\\Python\\Python311\\Lib\\site-packages\\skimage\\feature\\texture.py:360: UserWarning: Applying `local_binary_pattern` to floating-point images may give unexpected results when small numerical differences between adjacent pixels are present. It is recommended to use this function with images of integer dtype.\n",
      "  warnings.warn(\n"
     ]
    },
    {
     "name": "stdout",
     "output_type": "stream",
     "text": [
      "data_2\n",
      "1\n",
      "data_3\n",
      "2\n",
      "data_4\n",
      "3\n",
      "data_5\n",
      "4\n"
     ]
    }
   ],
   "source": [
    "def main():\n",
    "    folders = [\"data_1\",\"data_2\",\"data_3\", \"data_4\", \"data_5\"]\n",
    "    photos = [\"photo_1.jpg\", \"photo_2.jpg\", \"photo_3.jpg\", \"photo_4.jpg\", \"photo_5.jpg\"]\n",
    "    featlist = ['X1','X2','X3','X4','X5','X6','X7','X8','X9', 'X10','Y']\n",
    "    final = []\n",
    "\n",
    "    for folder in folders:\n",
    "        print(folder)\n",
    "        print(folders.index(folder))\n",
    "        for x in range(len(photos)):\n",
    "            image = Image.open(\"data\\\\\" + folder +'\\\\'+ photos[x])\n",
    "            image_processing = citra_digital_proccessing(np.array(image))\n",
    "            fitur = np.append(image_processing, folders.index(folder))\n",
    "            final.append(fitur)\n",
    "\n",
    "    df = pd.DataFrame(final, columns=featlist)\n",
    "    # print(len(featlist))\n",
    "    filepath = \"Training.csv\"\n",
    "    df.to_csv(filepath, index=False)\n",
    "main()"
   ]
  }
 ],
 "metadata": {
  "kernelspec": {
   "display_name": "Python 3",
   "language": "python",
   "name": "python3"
  },
  "language_info": {
   "codemirror_mode": {
    "name": "ipython",
    "version": 3
   },
   "file_extension": ".py",
   "mimetype": "text/x-python",
   "name": "python",
   "nbconvert_exporter": "python",
   "pygments_lexer": "ipython3",
   "version": "3.11.8"
  }
 },
 "nbformat": 4,
 "nbformat_minor": 2
}
